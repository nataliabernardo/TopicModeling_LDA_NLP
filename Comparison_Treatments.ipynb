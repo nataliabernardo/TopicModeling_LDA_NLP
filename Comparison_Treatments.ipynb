{
 "cells": [
  {
   "cell_type": "code",
   "execution_count": 1,
   "metadata": {},
   "outputs": [],
   "source": [
    "import pickle\n",
    "import matplotlib.pyplot as plt\n",
    "\n",
    "%matplotlib inline"
   ]
  },
  {
   "cell_type": "code",
   "execution_count": 5,
   "metadata": {},
   "outputs": [

   ],
   "source": [
    "file = open(\"reviews_topics_nose.pickle\",'rb')\n",
    "reviews_nose = pickle.load(file)\n",
    "file.close()"
   ]
  },
  {
   "cell_type": "code",
   "execution_count": 5,
   "metadata": {
    "collapsed": true
   },
   "outputs": [],
   "source": [
    "file = open(\"reviews_topics_coolsculpting.pickle\",'rb')\n",
    "reviews_coolsculpting = pickle.load(file)\n",
    "file.close()"
   ]
  },
  {
   "cell_type": "code",
   "execution_count": 7,
   "metadata": {},
   "outputs": [],
   "source": [
    "file = open(\"reviews_topics_botox.pickle\",'rb')\n",
    "reviews_botox = pickle.load(file)\n",
    "file.close()"
   ]
  },
  {
   "cell_type": "code",
   "execution_count": 21,
   "metadata": {},
   "outputs": [
    {
     "data": {
      "text/plain": [
       "(array([8.0000e+00, 2.6000e+01, 7.0000e+01, 3.2700e+02, 2.4900e+03,\n",
       "        1.0648e+04, 4.7630e+03, 9.9400e+02, 1.7000e+02, 5.9000e+01]),\n",
       " array([-1. , -0.8, -0.6, -0.4, -0.2,  0. ,  0.2,  0.4,  0.6,  0.8,  1. ]),\n",
       " <a list of 10 Patch objects>)"
      ]
     },
     "execution_count": 21,
     "metadata": {},
     "output_type": "execute_result"
    }
   ],
   "source": [
    "plt.hist(reviews_nose['avg_sentiment'].dropna())"
   ]
  },
  {
   "cell_type": "code",
   "execution_count": 28,
   "metadata": {
    "collapsed": true
   },
   "outputs": [],
   "source": [
    "from sklearn import preprocessing"
   ]
  },
  {
   "cell_type": "code",
   "execution_count": 79,
   "metadata": {},
   "outputs": [],
   "source": [
    "botox_scaled = preprocessing.scale(reviews_botox['avg_sentiment'].dropna())"
   ]
  },
  {
   "cell_type": "code",
   "execution_count": 80,
   "metadata": {},
   "outputs": [],
   "source": [
    "coolsculpting_scaled = preprocessing.scale(reviews_coolsculpting['avg_sentiment'].dropna())"
   ]
  },
  {
   "cell_type": "code",
   "execution_count": 86,
   "metadata": {
    "collapsed": true
   },
   "outputs": [],
   "source": [
    "nose_scaled = preprocessing.scale(reviews_nose['avg_sentiment'].dropna())"
   ]
  },
  {
   "cell_type": "code",
   "execution_count": 100,
   "metadata": {},
   "outputs": [
    {
     "data": {
      "image/png": "[encoded data removed]",
      "text/plain": [
       "<matplotlib.figure.Figure at 0x110dd2cf8>"
      ]
     },
     "metadata": {},
     "output_type": "display_data"
    }
   ],
   "source": [
    "plt.figure(figsize=(8,6))\n",
    "\n",
    "plt.hist(reviews_nose['avg_sentiment'].dropna(), bins = 50, alpha=0.4, label='Coolsculpting', color = \"green\")\n",
    "plt.hist(reviews_coolsculpting['avg_sentiment'].dropna(), bins = 50, alpha=0.4, label='Rhinoplasty', color = \"red\")\n",
    "plt.hist(reviews_botox['avg_sentiment'].dropna(), bins = 50, alpha=0.4, label='Botox', color = \"blue\")\n",
    "\n",
    "plt.text(0.7, 1500, \"Positive\", fontsize=15)\n",
    "plt.text(0.7, 1300, \"Reviews\", fontsize=15)\n",
    "plt.text(-0.7, 1500, \"Negative\", fontsize=15)\n",
    "plt.text(-0.7, 1300, \"Reviews\", fontsize=15)\n",
    "\n",
    "plt.xlabel(\"Polarity score\", fontsize=13)\n",
    "plt.ylabel(\"Posts\", fontsize=13)\n",
    "plt.title(\"Sentiment Distribution\", fontsize=15)\n",
    "plt.legend(loc='upper right',fontsize=13)\n",
    "plt.show()"
   ]
  }
 ],
 "metadata": {
  "kernelspec": {
   "display_name": "Python 3",
   "language": "python",
   "name": "python3"
  },
  "language_info": {
   "codemirror_mode": {
    "name": "ipython",
    "version": 3
   },
   "file_extension": ".py",
   "mimetype": "text/x-python",
   "name": "python",
   "nbconvert_exporter": "python",
   "pygments_lexer": "ipython3",
   "version": "3.6.3"
  }
 },
 "nbformat": 4,
 "nbformat_minor": 2
}
